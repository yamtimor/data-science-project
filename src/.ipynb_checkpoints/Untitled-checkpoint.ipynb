{
 "cells": [
  {
   "cell_type": "code",
   "execution_count": 2,
   "id": "5cb3a075-2856-4447-a30f-e2acdaeb0b5b",
   "metadata": {},
   "outputs": [],
   "source": [
    "import pandas as pd\n",
    "from pprint import pprint\n",
    "import matplotlib.pyplot as plt"
   ]
  },
  {
   "cell_type": "code",
   "execution_count": 3,
   "id": "1fa8cb35-a315-4110-a30f-cada09b91353",
   "metadata": {},
   "outputs": [
    {
     "name": "stderr",
     "output_type": "stream",
     "text": [
      "C:\\Users\\yamti\\AppData\\Local\\Temp\\ipykernel_12820\\2303106556.py:1: DtypeWarning: Columns (9) have mixed types. Specify dtype option on import or set low_memory=False.\n",
      "  crime_files_by_q = pd.read_csv('crime_files_by_q.csv', encoding='utf-8')\n"
     ]
    }
   ],
   "source": [
    "crime_files_by_q = pd.read_csv('crime_files_by_q.csv', encoding='utf-8')\n",
    "list_of_crimes = pd.read_csv('list_of_crimes.csv', encoding='utf-8')\n",
    "sum_of_crime_files = pd.read_csv('sum_of_crime_files.csv', encoding='utf-8')"
   ]
  },
  {
   "cell_type": "code",
   "execution_count": 4,
   "id": "cb57491e-cd12-4d17-8237-ef7a64c72b3a",
   "metadata": {},
   "outputs": [
    {
     "name": "stdout",
     "output_type": "stream",
     "text": [
      "<class 'pandas.core.frame.DataFrame'>\n",
      "RangeIndex: 643493 entries, 0 to 643492\n",
      "Data columns (total 10 columns):\n",
      " #   Column                Non-Null Count   Dtype  \n",
      "---  ------                --------------   -----  \n",
      " 0   ArealAttributionType  643493 non-null  object \n",
      " 1   PoliceDistrict        643493 non-null  object \n",
      " 2   PoliceMerhav          643493 non-null  object \n",
      " 3   PoliceStation         643493 non-null  object \n",
      " 4   Settlement_Council    643400 non-null  object \n",
      " 5   StatArea              589405 non-null  float64\n",
      " 6   Quarter               643493 non-null  object \n",
      " 7   StatisticCrimeGroup   636865 non-null  object \n",
      " 8   StatisticCrimeType    636865 non-null  object \n",
      " 9   TikimSum              643493 non-null  object \n",
      "dtypes: float64(1), object(9)\n",
      "memory usage: 49.1+ MB\n"
     ]
    }
   ],
   "source": [
    "crime_files_by_q.info()"
   ]
  },
  {
   "cell_type": "code",
   "execution_count": 5,
   "id": "9ab77206-bda1-434c-8acd-fe3254c99e5e",
   "metadata": {},
   "outputs": [],
   "source": [
    "# eilat = crime_files_by_q[crime_files_by_q['PoliceStation'] == 'מרחב אילת דרום']\n",
    "# eilat[eilat['StatisticCrimeGroup'].notnull()]"
   ]
  },
  {
   "cell_type": "code",
   "execution_count": 30,
   "id": "bc9f9db7-7776-4c66-9349-98123cf00a5d",
   "metadata": {},
   "outputs": [],
   "source": [
    "crime_group_and_type = crime_files_by_q[['StatisticCrimeGroup','StatisticCrimeType']]\n",
    "# pprint(crime_group_and_type.groupby('StatisticCrimeGroup')['StatisticCrimeType'].apply(set).to_dict())"
   ]
  },
  {
   "cell_type": "code",
   "execution_count": 57,
   "id": "86c7cfad-f85b-446b-b717-ea8422e47fba",
   "metadata": {},
   "outputs": [],
   "source": [
    "# crime_group_and_type[crime_group_and_type['StatisticCrimeGroup'] == 'שאר עבירות']\n",
    "# crime_group_and_type['StatisticCrimeType'] = crime_group_and_type['StatisticCrimeType'].dropna().apply(lambda x: x.replace('שאר עבירות','שאר עבירות - שאר עבירות') if crime_group_and_type['StatisticCrimeGroup'] == 'שאר עבירות' else x.replace('שאר עבירות','שאר עבירות - עבירות כלכליות')) \n",
    "\n",
    "# crime_group_and_type.dropna().apply(lambda x: x.replace('שאר עבירות','שאר עבירות - שאר עבירות') if crime_group_and_type['StatisticCrimeGroup'] == 'שאר עבירות' else x.replace('שאר עבירות','שאר עבירות - עבירות כלכליות')) "
   ]
  },
  {
   "cell_type": "code",
   "execution_count": 47,
   "id": "e97c2c82-7b2a-450b-9abd-35afc5a93dac",
   "metadata": {},
   "outputs": [],
   "source": [
    "# def shaar_averot(df):\n",
    "#     if df['StatisticCrimeGroup'] == 'עבירות כלכליות':\n",
    "#         x."
   ]
  },
  {
   "cell_type": "code",
   "execution_count": 49,
   "id": "07f53c3d-ec49-46e3-b0a1-c5b6181a33fe",
   "metadata": {},
   "outputs": [
    {
     "data": {
      "text/html": [
       "<div>\n",
       "<style scoped>\n",
       "    .dataframe tbody tr th:only-of-type {\n",
       "        vertical-align: middle;\n",
       "    }\n",
       "\n",
       "    .dataframe tbody tr th {\n",
       "        vertical-align: top;\n",
       "    }\n",
       "\n",
       "    .dataframe thead th {\n",
       "        text-align: right;\n",
       "    }\n",
       "</style>\n",
       "<table border=\"1\" class=\"dataframe\">\n",
       "  <thead>\n",
       "    <tr style=\"text-align: right;\">\n",
       "      <th></th>\n",
       "      <th>StatisticCrimeGroup</th>\n",
       "      <th>StatisticCrimeType</th>\n",
       "    </tr>\n",
       "  </thead>\n",
       "  <tbody>\n",
       "  </tbody>\n",
       "</table>\n",
       "</div>"
      ],
      "text/plain": [
       "Empty DataFrame\n",
       "Columns: [StatisticCrimeGroup, StatisticCrimeType]\n",
       "Index: []"
      ]
     },
     "execution_count": 49,
     "metadata": {},
     "output_type": "execute_result"
    }
   ],
   "source": [
    "crime_group_and_type[crime_group_and_type['StatisticCrimeGroup'] == 'שאר עבירות - שאר עבירות']"
   ]
  },
  {
   "cell_type": "code",
   "execution_count": null,
   "id": "3c6ba152-4882-4984-ab90-9aa8cdd7cad6",
   "metadata": {},
   "outputs": [],
   "source": []
  },
  {
   "cell_type": "code",
   "execution_count": null,
   "id": "57c12446-fce4-4771-b838-3b6ced00c29d",
   "metadata": {},
   "outputs": [],
   "source": []
  }
 ],
 "metadata": {
  "kernelspec": {
   "display_name": "Python 3 (ipykernel)",
   "language": "python",
   "name": "python3"
  },
  "language_info": {
   "codemirror_mode": {
    "name": "ipython",
    "version": 3
   },
   "file_extension": ".py",
   "mimetype": "text/x-python",
   "name": "python",
   "nbconvert_exporter": "python",
   "pygments_lexer": "ipython3",
   "version": "3.10.5"
  }
 },
 "nbformat": 4,
 "nbformat_minor": 5
}
